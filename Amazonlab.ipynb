{
 "cells": [
  {
   "cell_type": "markdown",
   "metadata": {},
   "source": [
    "# Amazon Lab 2\n",
    "Paine(HE Peiwei, 54471962)"
   ]
  },
  {
   "cell_type": "markdown",
   "metadata": {},
   "source": [
    "# Research Question: the most controversial digital music product"
   ]
  },
  {
   "cell_type": "markdown",
   "metadata": {},
   "source": [
    "First, open the raw data of Digital Music on Amazon, and create lists for reviews and products seperately."
   ]
  },
  {
   "cell_type": "code",
   "execution_count": 2,
   "metadata": {
    "collapsed": true
   },
   "outputs": [],
   "source": [
    "import json\n",
    "import gzip"
   ]
  },
  {
   "cell_type": "code",
   "execution_count": 3,
   "metadata": {
    "collapsed": false
   },
   "outputs": [],
   "source": [
    "reviewers,products ={},{}\n",
    "fn = \"Digital_Music_5.json\"\n",
    "reviews = []\n",
    "for line in open(fn):\n",
    "    review = eval(line)\n",
    "    reviews.append(review)"
   ]
  },
  {
   "cell_type": "code",
   "execution_count": 4,
   "metadata": {
    "collapsed": false
   },
   "outputs": [
    {
     "name": "stdout",
     "output_type": "stream",
     "text": [
      "['B0000047RY', 'B0000E1ALR', 'B002N1AE8W', 'B000QVTMUM', 'B000WGWCLM']\n"
     ]
    }
   ],
   "source": [
    "product_ids = set()\n",
    "for review in reviews:\n",
    "    product_id = review['asin']\n",
    "    product_ids.add(product_id)\n",
    "print(list(product_ids)[:5])"
   ]
  },
  {
   "cell_type": "code",
   "execution_count": 5,
   "metadata": {
    "collapsed": false
   },
   "outputs": [
    {
     "name": "stdout",
     "output_type": "stream",
     "text": [
      "3568\n"
     ]
    }
   ],
   "source": [
    "products = {}\n",
    "fn = \"meta_Digital_Music.json\"\n",
    "for line in open(fn):\n",
    "    d = eval(line)\n",
    "    if d['asin'] in product_ids:\n",
    "        products[d['asin']] = d\n",
    "print(len(products))"
   ]
  },
  {
   "cell_type": "code",
   "execution_count": 6,
   "metadata": {
    "collapsed": true
   },
   "outputs": [],
   "source": [
    "p_reviews = {}\n",
    "for review in reviews:\n",
    "    asin = review['asin']\n",
    "    if asin not in p_reviews:\n",
    "        p_reviews[asin] = [review]\n",
    "    else:\n",
    "        p_reviews[asin].append(review)"
   ]
  },
  {
   "cell_type": "markdown",
   "metadata": {},
   "source": [
    "Second, define a new function called controversiality. Controversiality means to count the number of good (5 stars) and bad (1 or 2 stars) reviews, and take the lowest of good and bad. By sorting the products, I find that the album 50 Cent-Get Rich Or Die Tryin(2003) is the most controversial music product, and I check more detailed features of this product, such as the score distribution, the total reviews number, examples of positive and negative comments."
   ]
  },
  {
   "cell_type": "code",
   "execution_count": 30,
   "metadata": {
    "collapsed": false
   },
   "outputs": [
    {
     "name": "stdout",
     "output_type": "stream",
     "text": [
      "48\n"
     ]
    }
   ],
   "source": [
    "def controversiality(asin):\n",
    "    reviews = p_reviews[asin]\n",
    "    counts = count_scores(reviews)\n",
    "    negative = counts[1] + counts[2]\n",
    "    positive = counts[5]\n",
    "    return min(negative, positive)\n",
    "print(controversiality(most))"
   ]
  },
  {
   "cell_type": "code",
   "execution_count": 15,
   "metadata": {
    "collapsed": false
   },
   "outputs": [
    {
     "name": "stdout",
     "output_type": "stream",
     "text": [
      "Most controversial: B000084T18 ( Get Rich Or Die Tryin ):  48\n"
     ]
    }
   ],
   "source": [
    "ids = sorted(p_reviews, key=controversiality, reverse=True)\n",
    "controv = ids[0]\n",
    "print(\"Most controversial:\", controv, \"(\", products[controv]['title'],\"): \", controversiality(most))"
   ]
  },
  {
   "cell_type": "code",
   "execution_count": 39,
   "metadata": {
    "collapsed": false
   },
   "outputs": [
    {
     "name": "stdout",
     "output_type": "stream",
     "text": [
      "271\n",
      "{1: 61, 2: 14, 3: 33, 4: 63, 5: 100}\n"
     ]
    }
   ],
   "source": [
    "def n_reviews(asin):\n",
    "    reviews = p_reviews[asin]\n",
    "    return len(reviews)\n",
    "print(n_reviews(\"B000084T18\"))\n",
    "print(count_scores(p_reviews[controv]))"
   ]
  },
  {
   "cell_type": "code",
   "execution_count": 17,
   "metadata": {
    "collapsed": false
   },
   "outputs": [
    {
     "name": "stdout",
     "output_type": "stream",
     "text": [
      "Negative example: If I was you Id click on Dr Dre and get both the Chronic albums instead.other albums that are betterMakaveli-the Don KiluminatiSnoop Doggy Dogg-DoggystyleNWA-Straight outta ComptonTha Dogg Poung-Dogg FoodIce Cube- Death CertificateNotorious BIG- Ready to DieListen to those and then compare if fiddy is a lyricists.\n",
      "\n",
      "Positive example: I brought this album when it first came out in 03 and it still sounds like fire today. It's a pretty long album and the subjects are limited (guns, drugs, sex, killing) but the beats are hot and there are no bad songs.My Favorites1. Patiently Waiting w/Eminem2. Many Men3. In Da Club4. Heat5. If I Can't6. Blood Hound w/ Young Buck7. Like My Style w/ Tony Tayo8. 21 QuestionsI think this is one of the best rap albums of the last 10 years and will pass it on to a friend\n"
     ]
    }
   ],
   "source": [
    "negatives = [review for review in p_reviews[controv] if review['overall'] == 1.0]\n",
    "positives = [review for review in p_reviews[controv] if review['overall'] == 5.0]\n",
    "print(\"Negative example:\", negatives[0]['reviewText'])\n",
    "print(\"\\nPositive example:\", positives[0]['reviewText'])"
   ]
  },
  {
   "cell_type": "markdown",
   "metadata": {},
   "source": [
    "Third, I define a function of getting the most frequent words in positive and negative reviews, I test this function with keyword \"cent\", which represents the rapper \"50 Cent\", and the result shows 50 Cent is quite controversial. After that, I get the most frequent words in positive and negative comments, and stop some meanningless words mannually. The result is quite interesting that \"50 Cent\" is mentioned by consumers both in postive and negative reviews, and some other words like \"Eminem\", \"Dr.Dre\", \"Rap\" also show a popular musical flavour in Rap music."
   ]
  },
  {
   "cell_type": "code",
   "execution_count": 44,
   "metadata": {
    "collapsed": true
   },
   "outputs": [],
   "source": [
    "import re\n",
    "def count_words(texts):\n",
    "    counts = {}\n",
    "    for text in texts:\n",
    "        text = text.lower()\n",
    "        words = re.split(\"\\W+\", text)\n",
    "        for word in words:\n",
    "            counts[word] = counts.get(word, 0) + 1\n",
    "    return counts"
   ]
  },
  {
   "cell_type": "code",
   "execution_count": 45,
   "metadata": {
    "collapsed": false,
    "scrolled": false
   },
   "outputs": [
    {
     "data": {
      "text/plain": [
       "(102, 62)"
      ]
     },
     "execution_count": 45,
     "metadata": {},
     "output_type": "execute_result"
    }
   ],
   "source": [
    "positive_words = count_words([review['reviewText'] for review in positives])\n",
    "negative_words = count_words([review['reviewText'] for review in negatives])\n",
    "positive_words.get('cent'), negative_words.get('cent')"
   ]
  },
  {
   "cell_type": "code",
   "execution_count": 27,
   "metadata": {
    "collapsed": false
   },
   "outputs": [],
   "source": [
    "def get_value(item):\n",
    "    return item[1]\n",
    "positive_words_list = sorted(positive_words.items(), key=get_value, reverse=True)"
   ]
  },
  {
   "cell_type": "code",
   "execution_count": 28,
   "metadata": {
    "collapsed": false
   },
   "outputs": [
    {
     "name": "stdout",
     "output_type": "stream",
     "text": [
      "'50' 292\n",
      "'album' 245\n",
      "'like' 170\n",
      "'5' 168\n",
      "'his' 152\n",
      "'song' 148\n",
      "'cent' 102\n",
      "'10' 99\n",
      "'great' 95\n",
      "'cd' 93\n",
      "'get' 87\n",
      "'good' 79\n",
      "'eminem' 74\n",
      "'just' 66\n",
      "'club' 65\n",
      "'best' 65\n",
      "'dre' 61\n",
      "'many' 60\n",
      "'rich' 60\n",
      "'rap' 59\n"
     ]
    }
   ],
   "source": [
    "stopwords = {\"the\", \"a\", \"i\", \"it\", \"is\", \"of\", \"to\", \"this\", \"and\", \"in\", \"\",\"don\",\"has\",\"p\",\"have\",\"be\",\"one\",\"for\", \"t\",\"s\",\"he\",\"on\",\"that\",\"you\",\"are\",\"was\",\"but\",\"with\",\"all\",\"not\",\"if\",\"my\",\"me\",\"as\",\"up\",\"or\",\"can\",\"what\",\"da\"}\n",
    "positive_words_list = [(w, n) for (w, n) in positive_words_list if w not in stopwords]\n",
    "for word, n in positive_words_list[:20]:\n",
    "             print(repr(word), n)"
   ]
  },
  {
   "cell_type": "code",
   "execution_count": 29,
   "metadata": {
    "collapsed": false
   },
   "outputs": [
    {
     "name": "stdout",
     "output_type": "stream",
     "text": [
      "'50' 113\n",
      "'album' 69\n",
      "'rap' 62\n",
      "'cent' 62\n",
      "'his' 62\n",
      "'like' 59\n",
      "'about' 55\n",
      "'they' 48\n",
      "'music' 47\n",
      "'because' 36\n",
      "'just' 35\n",
      "'only' 34\n",
      "'why' 33\n",
      "'no' 33\n",
      "'when' 32\n",
      "'do' 31\n",
      "'out' 31\n",
      "'cd' 31\n",
      "'even' 31\n",
      "'your' 30\n"
     ]
    }
   ],
   "source": [
    "negative_words_list = sorted(negative_words.items(), key=get_value, reverse=True)\n",
    "negative_words_list = [(w, n) for (w, n) in negative_words_list if w not in stopwords]\n",
    "for word, n in negative_words_list[:20]:\n",
    "    print(repr(word), n)"
   ]
  }
 ],
 "metadata": {
  "anaconda-cloud": {},
  "kernelspec": {
   "display_name": "Python 3",
   "language": "python",
   "name": "python3"
  },
  "language_info": {
   "codemirror_mode": {
    "name": "ipython",
    "version": 3
   },
   "file_extension": ".py",
   "mimetype": "text/x-python",
   "name": "python",
   "nbconvert_exporter": "python",
   "pygments_lexer": "ipython3",
   "version": "3.6.0"
  }
 },
 "nbformat": 4,
 "nbformat_minor": 1
}
