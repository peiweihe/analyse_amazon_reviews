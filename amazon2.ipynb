{
 "cells": [
  {
   "cell_type": "markdown",
   "metadata": {},
   "source": [
    "# Amazon Lab 2\n",
    "Paine(HE Peiwei, 54471962)\n",
    "## Research Question: the most controversial digital music product\n",
    "First, open the raw data of Digital Music on Amazon, and create lists for reviews and products seperately, and save the data as pickles."
   ]
  },
  {
   "cell_type": "code",
   "execution_count": 1,
   "metadata": {
    "collapsed": true
   },
   "outputs": [],
   "source": [
    "import json\n",
    "import pandas as pd\n",
    "fn = \"Digital_Music_5.json\"\n",
    "reviews = (eval(line) for line in open(fn))\n",
    "reviews = pd.DataFrame(reviews)"
   ]
  },
  {
   "cell_type": "code",
   "execution_count": 2,
   "metadata": {
    "collapsed": false
   },
   "outputs": [],
   "source": [
    "fn = \"meta_Digital_Music.json\"\n",
    "asins = set(reviews.asin.unique())\n",
    "products = (eval(line) for line in open(fn))\n",
    "products = (p for p in products if p['asin'] in asins)\n",
    "products = pd.DataFrame(products)\n",
    "products = products.set_index(\"asin\")"
   ]
  },
  {
   "cell_type": "code",
   "execution_count": 3,
   "metadata": {
    "collapsed": true
   },
   "outputs": [],
   "source": [
    "products.to_pickle(\"products.pickle\")\n",
    "reviews.to_pickle(\"reviews.pickle\")"
   ]
  },
  {
   "cell_type": "markdown",
   "metadata": {},
   "source": [
    "Second, calculate the mean review amount and score per product, using the groupby function to put the data in correct order."
   ]
  },
  {
   "cell_type": "code",
   "execution_count": 4,
   "metadata": {
    "collapsed": false
   },
   "outputs": [],
   "source": [
    "reviews = pd.read_pickle(\"reviews.pickle\")\n",
    "counts = reviews.asin.value_counts()"
   ]
  },
  {
   "cell_type": "code",
   "execution_count": 5,
   "metadata": {
    "collapsed": false
   },
   "outputs": [],
   "source": [
    "reviews.overall[reviews.asin == counts.index[0]].mean()\n",
    "reviews.overall[reviews.asin == counts.index[0]].value_counts()\n",
    "stats = reviews.groupby(['asin'])['overall'].agg(['count', 'mean'])"
   ]
  },
  {
   "cell_type": "markdown",
   "metadata": {},
   "source": [
    "Third, calculate the number of good and bad reviews seperately, by using value_count according to the score. Fill the missing value with 0. And combine the 2 series into 1 dataframe, and get the min value of number of good or bad reviews. These steps are doing the same thing as the last lab, that define a function called \"Controversiality\"."
   ]
  },
  {
   "cell_type": "code",
   "execution_count": 6,
   "metadata": {
    "collapsed": false
   },
   "outputs": [
    {
     "data": {
      "text/plain": [
       "B000084T18    75\n",
       "B0007NFL18    48\n",
       "B00008H2LB    44\n",
       "B00006690F    39\n",
       "B00005YW4H    31\n",
       "Name: asin, dtype: int64"
      ]
     },
     "execution_count": 6,
     "metadata": {},
     "output_type": "execute_result"
    }
   ],
   "source": [
    "good = reviews.asin[reviews.overall == 5].value_counts()\n",
    "bad = reviews.asin[reviews.overall <= 2].value_counts()\n",
    "c = good.combine(bad, func=min, fill_value=0)\n",
    "c = c.sort_values(ascending=False)\n",
    "c.head()"
   ]
  },
  {
   "cell_type": "code",
   "execution_count": 7,
   "metadata": {
    "collapsed": false
   },
   "outputs": [],
   "source": [
    "products = pd.read_pickle(\"products.pickle\")\n",
    "products['controversiality'] = c\n",
    "products = products.sort_values(\"controversiality\", ascending=False)"
   ]
  },
  {
   "cell_type": "markdown",
   "metadata": {},
   "source": [
    "Fourth, get the top 5 most controversial products, and manage the dataframe, and present the useful data only, choosing by columns."
   ]
  },
  {
   "cell_type": "code",
   "execution_count": 8,
   "metadata": {
    "collapsed": false
   },
   "outputs": [
    {
     "data": {
      "text/html": [
       "<div>\n",
       "<table border=\"1\" class=\"dataframe\">\n",
       "  <thead>\n",
       "    <tr style=\"text-align: right;\">\n",
       "      <th></th>\n",
       "      <th>brand</th>\n",
       "      <th>categories</th>\n",
       "      <th>description</th>\n",
       "      <th>imUrl</th>\n",
       "      <th>price</th>\n",
       "      <th>related</th>\n",
       "      <th>salesRank</th>\n",
       "      <th>title</th>\n",
       "      <th>controversiality</th>\n",
       "      <th>count</th>\n",
       "      <th>mean</th>\n",
       "    </tr>\n",
       "    <tr>\n",
       "      <th>asin</th>\n",
       "      <th></th>\n",
       "      <th></th>\n",
       "      <th></th>\n",
       "      <th></th>\n",
       "      <th></th>\n",
       "      <th></th>\n",
       "      <th></th>\n",
       "      <th></th>\n",
       "      <th></th>\n",
       "      <th></th>\n",
       "      <th></th>\n",
       "    </tr>\n",
       "  </thead>\n",
       "  <tbody>\n",
       "    <tr>\n",
       "      <th>B000084T18</th>\n",
       "      <td></td>\n",
       "      <td>[[CDs &amp; Vinyl, Pop], [CDs &amp; Vinyl, Rap &amp; Hip-H...</td>\n",
       "      <td>He&amp;#x92;s been shot nine times. Incarcerated. ...</td>\n",
       "      <td>http://ecx.images-amazon.com/images/I/61AYpcmB...</td>\n",
       "      <td>8.15</td>\n",
       "      <td>{'buy_after_viewing': ['B0007NFL18', 'B00000I5...</td>\n",
       "      <td>{'Music': 2573}</td>\n",
       "      <td>Get Rich Or Die Tryin</td>\n",
       "      <td>75.0</td>\n",
       "      <td>271</td>\n",
       "      <td>3.468635</td>\n",
       "    </tr>\n",
       "    <tr>\n",
       "      <th>B0007NFL18</th>\n",
       "      <td>Umgd/Aftermath</td>\n",
       "      <td>[[CDs &amp; Vinyl, Pop], [CDs &amp; Vinyl, Rap &amp; Hip-H...</td>\n",
       "      <td>50 CENT THE MASSACRE</td>\n",
       "      <td>http://ecx.images-amazon.com/images/I/51QDFS68...</td>\n",
       "      <td>10.98</td>\n",
       "      <td>{'buy_after_viewing': ['B000084T18', 'B000BEZQ...</td>\n",
       "      <td>{'Music': 10505}</td>\n",
       "      <td>The Massacre</td>\n",
       "      <td>48.0</td>\n",
       "      <td>272</td>\n",
       "      <td>2.558824</td>\n",
       "    </tr>\n",
       "    <tr>\n",
       "      <th>B00008H2LB</th>\n",
       "      <td>NaN</td>\n",
       "      <td>[[CDs &amp; Vinyl, Alternative Rock, American Alte...</td>\n",
       "      <td>Linkin Park&amp;#x92;s second studio effort (not c...</td>\n",
       "      <td>http://ecx.images-amazon.com/images/I/31N10AYD...</td>\n",
       "      <td>4.99</td>\n",
       "      <td>{'buy_after_viewing': ['B00004Z459', 'B00K03VZ...</td>\n",
       "      <td>{'Music': 450}</td>\n",
       "      <td>Meteora</td>\n",
       "      <td>44.0</td>\n",
       "      <td>152</td>\n",
       "      <td>3.467105</td>\n",
       "    </tr>\n",
       "    <tr>\n",
       "      <th>B00006690F</th>\n",
       "      <td>NaN</td>\n",
       "      <td>[[CDs &amp; Vinyl, Pop], [CDs &amp; Vinyl, Rap &amp; Hip-H...</td>\n",
       "      <td>Any lingering doubts as to the depth of Eminem...</td>\n",
       "      <td>http://ecx.images-amazon.com/images/I/410VJKV7...</td>\n",
       "      <td>9.49</td>\n",
       "      <td>{'buy_after_viewing': ['B00FKAA3MA', 'B00004T9...</td>\n",
       "      <td>{'Music': 62107}</td>\n",
       "      <td>The Eminem Show [Limited Edition w/ Bonus DVD]</td>\n",
       "      <td>39.0</td>\n",
       "      <td>204</td>\n",
       "      <td>3.911765</td>\n",
       "    </tr>\n",
       "    <tr>\n",
       "      <th>B00005YW4H</th>\n",
       "      <td>Emm/Blue Note</td>\n",
       "      <td>[[CDs &amp; Vinyl, Broadway &amp; Vocalists], [CDs &amp; V...</td>\n",
       "      <td>It is not just the timbre of Norah Jones's voi...</td>\n",
       "      <td>http://ecx.images-amazon.com/images/I/51z3tmwT...</td>\n",
       "      <td>9.95</td>\n",
       "      <td>{'buy_after_viewing': ['B004EBT5CU', 'B000RL22...</td>\n",
       "      <td>{'Music': 429}</td>\n",
       "      <td>Come Away with Me</td>\n",
       "      <td>31.0</td>\n",
       "      <td>190</td>\n",
       "      <td>3.963158</td>\n",
       "    </tr>\n",
       "  </tbody>\n",
       "</table>\n",
       "</div>"
      ],
      "text/plain": [
       "                     brand                                         categories  \\\n",
       "asin                                                                            \n",
       "B000084T18                  [[CDs & Vinyl, Pop], [CDs & Vinyl, Rap & Hip-H...   \n",
       "B0007NFL18  Umgd/Aftermath  [[CDs & Vinyl, Pop], [CDs & Vinyl, Rap & Hip-H...   \n",
       "B00008H2LB             NaN  [[CDs & Vinyl, Alternative Rock, American Alte...   \n",
       "B00006690F             NaN  [[CDs & Vinyl, Pop], [CDs & Vinyl, Rap & Hip-H...   \n",
       "B00005YW4H   Emm/Blue Note  [[CDs & Vinyl, Broadway & Vocalists], [CDs & V...   \n",
       "\n",
       "                                                  description  \\\n",
       "asin                                                            \n",
       "B000084T18  He&#x92;s been shot nine times. Incarcerated. ...   \n",
       "B0007NFL18                               50 CENT THE MASSACRE   \n",
       "B00008H2LB  Linkin Park&#x92;s second studio effort (not c...   \n",
       "B00006690F  Any lingering doubts as to the depth of Eminem...   \n",
       "B00005YW4H  It is not just the timbre of Norah Jones's voi...   \n",
       "\n",
       "                                                        imUrl  price  \\\n",
       "asin                                                                   \n",
       "B000084T18  http://ecx.images-amazon.com/images/I/61AYpcmB...   8.15   \n",
       "B0007NFL18  http://ecx.images-amazon.com/images/I/51QDFS68...  10.98   \n",
       "B00008H2LB  http://ecx.images-amazon.com/images/I/31N10AYD...   4.99   \n",
       "B00006690F  http://ecx.images-amazon.com/images/I/410VJKV7...   9.49   \n",
       "B00005YW4H  http://ecx.images-amazon.com/images/I/51z3tmwT...   9.95   \n",
       "\n",
       "                                                      related  \\\n",
       "asin                                                            \n",
       "B000084T18  {'buy_after_viewing': ['B0007NFL18', 'B00000I5...   \n",
       "B0007NFL18  {'buy_after_viewing': ['B000084T18', 'B000BEZQ...   \n",
       "B00008H2LB  {'buy_after_viewing': ['B00004Z459', 'B00K03VZ...   \n",
       "B00006690F  {'buy_after_viewing': ['B00FKAA3MA', 'B00004T9...   \n",
       "B00005YW4H  {'buy_after_viewing': ['B004EBT5CU', 'B000RL22...   \n",
       "\n",
       "                   salesRank                                           title  \\\n",
       "asin                                                                           \n",
       "B000084T18   {'Music': 2573}                           Get Rich Or Die Tryin   \n",
       "B0007NFL18  {'Music': 10505}                                    The Massacre   \n",
       "B00008H2LB    {'Music': 450}                                         Meteora   \n",
       "B00006690F  {'Music': 62107}  The Eminem Show [Limited Edition w/ Bonus DVD]   \n",
       "B00005YW4H    {'Music': 429}                               Come Away with Me   \n",
       "\n",
       "            controversiality  count      mean  \n",
       "asin                                           \n",
       "B000084T18              75.0    271  3.468635  \n",
       "B0007NFL18              48.0    272  2.558824  \n",
       "B00008H2LB              44.0    152  3.467105  \n",
       "B00006690F              39.0    204  3.911765  \n",
       "B00005YW4H              31.0    190  3.963158  "
      ]
     },
     "execution_count": 8,
     "metadata": {},
     "output_type": "execute_result"
    }
   ],
   "source": [
    "products = products.join(stats)\n",
    "products.head()"
   ]
  },
  {
   "cell_type": "code",
   "execution_count": 9,
   "metadata": {
    "collapsed": false,
    "scrolled": false
   },
   "outputs": [
    {
     "data": {
      "text/html": [
       "<div>\n",
       "<table border=\"1\" class=\"dataframe\">\n",
       "  <thead>\n",
       "    <tr style=\"text-align: right;\">\n",
       "      <th></th>\n",
       "      <th>title</th>\n",
       "      <th>controversiality</th>\n",
       "      <th>count</th>\n",
       "      <th>mean</th>\n",
       "    </tr>\n",
       "    <tr>\n",
       "      <th>asin</th>\n",
       "      <th></th>\n",
       "      <th></th>\n",
       "      <th></th>\n",
       "      <th></th>\n",
       "    </tr>\n",
       "  </thead>\n",
       "  <tbody>\n",
       "    <tr>\n",
       "      <th>B000084T18</th>\n",
       "      <td>Get Rich Or Die Tryin</td>\n",
       "      <td>75.0</td>\n",
       "      <td>271</td>\n",
       "      <td>3.468635</td>\n",
       "    </tr>\n",
       "    <tr>\n",
       "      <th>B0007NFL18</th>\n",
       "      <td>The Massacre</td>\n",
       "      <td>48.0</td>\n",
       "      <td>272</td>\n",
       "      <td>2.558824</td>\n",
       "    </tr>\n",
       "    <tr>\n",
       "      <th>B00008H2LB</th>\n",
       "      <td>Meteora</td>\n",
       "      <td>44.0</td>\n",
       "      <td>152</td>\n",
       "      <td>3.467105</td>\n",
       "    </tr>\n",
       "    <tr>\n",
       "      <th>B00006690F</th>\n",
       "      <td>The Eminem Show [Limited Edition w/ Bonus DVD]</td>\n",
       "      <td>39.0</td>\n",
       "      <td>204</td>\n",
       "      <td>3.911765</td>\n",
       "    </tr>\n",
       "    <tr>\n",
       "      <th>B00005YW4H</th>\n",
       "      <td>Come Away with Me</td>\n",
       "      <td>31.0</td>\n",
       "      <td>190</td>\n",
       "      <td>3.963158</td>\n",
       "    </tr>\n",
       "  </tbody>\n",
       "</table>\n",
       "</div>"
      ],
      "text/plain": [
       "                                                     title  controversiality  \\\n",
       "asin                                                                           \n",
       "B000084T18                           Get Rich Or Die Tryin              75.0   \n",
       "B0007NFL18                                    The Massacre              48.0   \n",
       "B00008H2LB                                         Meteora              44.0   \n",
       "B00006690F  The Eminem Show [Limited Edition w/ Bonus DVD]              39.0   \n",
       "B00005YW4H                               Come Away with Me              31.0   \n",
       "\n",
       "            count      mean  \n",
       "asin                         \n",
       "B000084T18    271  3.468635  \n",
       "B0007NFL18    272  2.558824  \n",
       "B00008H2LB    152  3.467105  \n",
       "B00006690F    204  3.911765  \n",
       "B00005YW4H    190  3.963158  "
      ]
     },
     "execution_count": 9,
     "metadata": {},
     "output_type": "execute_result"
    }
   ],
   "source": [
    "products[[\"title\"] + list(products.columns[-3:])].head()\n",
    "products.ix[:, -4:].head()"
   ]
  },
  {
   "cell_type": "code",
   "execution_count": 10,
   "metadata": {
    "collapsed": false
   },
   "outputs": [
    {
     "data": {
      "text/plain": [
       "5.0    100\n",
       "4.0     63\n",
       "1.0     61\n",
       "3.0     33\n",
       "2.0     14\n",
       "Name: overall, dtype: int64"
      ]
     },
     "execution_count": 10,
     "metadata": {},
     "output_type": "execute_result"
    }
   ],
   "source": [
    "reviews.overall[reviews.asin == \"B000084T18\"].value_counts()"
   ]
  },
  {
   "cell_type": "markdown",
   "metadata": {},
   "source": [
    "# Result: "
   ]
  },
  {
   "cell_type": "markdown",
   "metadata": {},
   "source": [
    "According to the result, 50 Cent-Get Rich Or Die Tryin(2003) is the most controversial music product, and I check more detailed score distribution of this product,, the result is consistent with last week's lab, however, the controversiality value is different. There are 100 good reviews, 75 bad reviews, so the controversiality should be 75, this week's result is correct. However, last week's result was 48.\n",
    "The reason might be :\n",
    "print(controversiality(most))\n",
    "\n",
    "I'm not sure how pure python calculate the data and give the \"most\", so it might give the wrong result, but last week I didn't notice that. But this week, the program combine the good and bad reviews into 1 dataframe, and what I do is to rearrange the rows and columns by the controversiality value, and finally print the correct result."
   ]
  },
  {
   "cell_type": "code",
   "execution_count": 11,
   "metadata": {
    "collapsed": true
   },
   "outputs": [],
   "source": [
    "import json\n",
    "import gzip"
   ]
  },
  {
   "cell_type": "code",
   "execution_count": 12,
   "metadata": {
    "collapsed": true
   },
   "outputs": [],
   "source": [
    "reviewers,products ={},{}\n",
    "fn = \"Digital_Music_5.json\"\n",
    "reviews = []\n",
    "for line in open(fn):\n",
    "    review = eval(line)\n",
    "    reviews.append(review)"
   ]
  },
  {
   "cell_type": "code",
   "execution_count": 13,
   "metadata": {
    "collapsed": false
   },
   "outputs": [
    {
     "name": "stdout",
     "output_type": "stream",
     "text": [
      "['B00000AG8D', 'B0009VJWQS', 'B0000072SX', 'B004W9CG5W', 'B00000064G']\n"
     ]
    }
   ],
   "source": [
    "product_ids = set()\n",
    "for review in reviews:\n",
    "    product_id = review['asin']\n",
    "    product_ids.add(product_id)\n",
    "print(list(product_ids)[:5])"
   ]
  },
  {
   "cell_type": "code",
   "execution_count": 14,
   "metadata": {
    "collapsed": false
   },
   "outputs": [
    {
     "name": "stdout",
     "output_type": "stream",
     "text": [
      "3568\n"
     ]
    }
   ],
   "source": [
    "products = {}\n",
    "fn = \"meta_Digital_Music.json\"\n",
    "for line in open(fn):\n",
    "    d = eval(line)\n",
    "    if d['asin'] in product_ids:\n",
    "        products[d['asin']] = d\n",
    "print(len(products))"
   ]
  },
  {
   "cell_type": "code",
   "execution_count": 15,
   "metadata": {
    "collapsed": true
   },
   "outputs": [],
   "source": [
    "p_reviews = {}\n",
    "for review in reviews:\n",
    "    asin = review['asin']\n",
    "    if asin not in p_reviews:\n",
    "        p_reviews[asin] = [review]\n",
    "    else:\n",
    "        p_reviews[asin].append(review)"
   ]
  },
  {
   "cell_type": "code",
   "execution_count": 16,
   "metadata": {
    "collapsed": false
   },
   "outputs": [],
   "source": [
    "def n_reviews(asin):\n",
    "    reviews = p_reviews[asin]\n",
    "    return len(reviews)\n",
    "ids = sorted(p_reviews, key=n_reviews, reverse=True)\n",
    "most = ids[0]\n",
    "reviews_most = p_reviews[most]\n",
    "def count_scores(reviews):\n",
    "    counts = {score: 0 for score in range(1,6)}\n",
    "    for review in reviews:\n",
    "        score = review['overall']\n",
    "        counts[score] += 1\n",
    "    return counts"
   ]
  },
  {
   "cell_type": "code",
   "execution_count": 17,
   "metadata": {
    "collapsed": false
   },
   "outputs": [
    {
     "name": "stdout",
     "output_type": "stream",
     "text": [
      "48\n"
     ]
    }
   ],
   "source": [
    "def controversiality(asin):\n",
    "    reviews = p_reviews[asin]\n",
    "    counts = count_scores(reviews)\n",
    "    negative = counts[1] + counts[2]\n",
    "    positive = counts[5]\n",
    "    return min(negative, positive)\n",
    "print(controversiality(most))"
   ]
  },
  {
   "cell_type": "code",
   "execution_count": 18,
   "metadata": {
    "collapsed": false
   },
   "outputs": [
    {
     "name": "stdout",
     "output_type": "stream",
     "text": [
      "Most controversial: B000084T18 ( Get Rich Or Die Tryin ):  48\n"
     ]
    }
   ],
   "source": [
    "ids = sorted(p_reviews, key=controversiality, reverse=True)\n",
    "controv = ids[0]\n",
    "print(\"Most controversial:\", controv, \"(\", products[controv]['title'],\"): \", controversiality(most))"
   ]
  },
  {
   "cell_type": "code",
   "execution_count": 19,
   "metadata": {
    "collapsed": false
   },
   "outputs": [
    {
     "name": "stdout",
     "output_type": "stream",
     "text": [
      "10 loops, best of 3: 97.7 ns per loop\n"
     ]
    }
   ],
   "source": [
    "%timeit -n 10 controversiality"
   ]
  },
  {
   "cell_type": "code",
   "execution_count": 20,
   "metadata": {
    "collapsed": false
   },
   "outputs": [
    {
     "name": "stdout",
     "output_type": "stream",
     "text": [
      "10 loops, best of 3: 334 ms per loop\n"
     ]
    }
   ],
   "source": [
    "%timeit -n 10 good.combine(bad, func=min, fill_value=0)"
   ]
  },
  {
   "cell_type": "markdown",
   "metadata": {},
   "source": [
    "# Comparision"
   ]
  },
  {
   "cell_type": "markdown",
   "metadata": {},
   "source": [
    "I compare 2 functions by using %timeit. Controversiality is 3:97,7 ns per loop, but good.combine function is 3:334 ms per loop. It seems controversiality is faster than good.combine function, but it takes long time to build dictionaries for reviews and products. So I prefer the combine funtion in pandas."
   ]
  }
 ],
 "metadata": {
  "anaconda-cloud": {},
  "kernelspec": {
   "display_name": "Python 3",
   "language": "python",
   "name": "python3"
  },
  "language_info": {
   "codemirror_mode": {
    "name": "ipython",
    "version": 3
   },
   "file_extension": ".py",
   "mimetype": "text/x-python",
   "name": "python",
   "nbconvert_exporter": "python",
   "pygments_lexer": "ipython3",
   "version": "3.6.0"
  }
 },
 "nbformat": 4,
 "nbformat_minor": 1
}
