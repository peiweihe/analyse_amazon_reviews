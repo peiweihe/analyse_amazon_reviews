{
 "cells": [
  {
   "cell_type": "markdown",
   "metadata": {},
   "source": [
    "# Predicting Products' Reviews"
   ]
  },
  {
   "cell_type": "markdown",
   "metadata": {},
   "source": [
    "### Paine(HE Peiwei, 54471952)"
   ]
  },
  {
   "cell_type": "markdown",
   "metadata": {},
   "source": [
    "### 1. Data Cleaning and Organizing"
   ]
  },
  {
   "cell_type": "markdown",
   "metadata": {},
   "source": [
    "First, load the raw pickle data and calculate the mean rating of each products, then create a new dataframe with needed columns."
   ]
  },
  {
   "cell_type": "code",
   "execution_count": 1,
   "metadata": {
    "collapsed": true
   },
   "outputs": [],
   "source": [
    "import pandas as pd\n",
    "import numpy as np"
   ]
  },
  {
   "cell_type": "code",
   "execution_count": 2,
   "metadata": {
    "collapsed": true
   },
   "outputs": [],
   "source": [
    "import sklearn as sk\n",
    "from sklearn import tree"
   ]
  },
  {
   "cell_type": "code",
   "execution_count": 3,
   "metadata": {
    "collapsed": false
   },
   "outputs": [],
   "source": [
    "reviews = pd.read_pickle(\"reviews.pickle\")\n",
    "counts = reviews.asin.value_counts()\n",
    "reviews.overall[reviews.asin == counts.index[0]].mean()\n",
    "reviews.overall[reviews.asin == counts.index[0]].value_counts()\n",
    "stats = reviews.groupby(['asin'])['overall'].agg(['count', 'mean'])"
   ]
  },
  {
   "cell_type": "code",
   "execution_count": 4,
   "metadata": {
    "collapsed": false
   },
   "outputs": [
    {
     "data": {
      "text/html": [
       "<div>\n",
       "<table border=\"1\" class=\"dataframe\">\n",
       "  <thead>\n",
       "    <tr style=\"text-align: right;\">\n",
       "      <th></th>\n",
       "      <th>categories</th>\n",
       "      <th>price</th>\n",
       "      <th>salesRank</th>\n",
       "      <th>title</th>\n",
       "      <th>mean</th>\n",
       "    </tr>\n",
       "    <tr>\n",
       "      <th>asin</th>\n",
       "      <th></th>\n",
       "      <th></th>\n",
       "      <th></th>\n",
       "      <th></th>\n",
       "      <th></th>\n",
       "    </tr>\n",
       "  </thead>\n",
       "  <tbody>\n",
       "    <tr>\n",
       "      <th>5555991584</th>\n",
       "      <td>[[CDs &amp; Vinyl, New Age, Celtic New Age], [CDs ...</td>\n",
       "      <td>9.49</td>\n",
       "      <td>{'Music': 939190}</td>\n",
       "      <td>Memory of Trees</td>\n",
       "      <td>4.739130</td>\n",
       "    </tr>\n",
       "    <tr>\n",
       "      <th>B0000000ZW</th>\n",
       "      <td>[[CDs &amp; Vinyl, Dance &amp; Electronic], [CDs &amp; Vin...</td>\n",
       "      <td>23.64</td>\n",
       "      <td>{'Music': 68784}</td>\n",
       "      <td>Changing Faces</td>\n",
       "      <td>4.133333</td>\n",
       "    </tr>\n",
       "    <tr>\n",
       "      <th>B00000016W</th>\n",
       "      <td>[[CDs &amp; Vinyl, Classic Rock], [CDs &amp; Vinyl, Po...</td>\n",
       "      <td>9.49</td>\n",
       "      <td>{'Music': 77205}</td>\n",
       "      <td>Pet Sounds</td>\n",
       "      <td>4.629630</td>\n",
       "    </tr>\n",
       "    <tr>\n",
       "      <th>B00000016T</th>\n",
       "      <td>[[CDs &amp; Vinyl, Alternative Rock, New Wave &amp; Po...</td>\n",
       "      <td>14.63</td>\n",
       "      <td>{'Music': 458151}</td>\n",
       "      <td>Cars</td>\n",
       "      <td>4.851064</td>\n",
       "    </tr>\n",
       "    <tr>\n",
       "      <th>B00000017R</th>\n",
       "      <td>[[CDs &amp; Vinyl, Jazz, Bebop], [CDs &amp; Vinyl, Jaz...</td>\n",
       "      <td>8.99</td>\n",
       "      <td>{'Music': 561174}</td>\n",
       "      <td>Jazz Samba</td>\n",
       "      <td>4.650000</td>\n",
       "    </tr>\n",
       "  </tbody>\n",
       "</table>\n",
       "</div>"
      ],
      "text/plain": [
       "                                                   categories  price  \\\n",
       "asin                                                                   \n",
       "5555991584  [[CDs & Vinyl, New Age, Celtic New Age], [CDs ...   9.49   \n",
       "B0000000ZW  [[CDs & Vinyl, Dance & Electronic], [CDs & Vin...  23.64   \n",
       "B00000016W  [[CDs & Vinyl, Classic Rock], [CDs & Vinyl, Po...   9.49   \n",
       "B00000016T  [[CDs & Vinyl, Alternative Rock, New Wave & Po...  14.63   \n",
       "B00000017R  [[CDs & Vinyl, Jazz, Bebop], [CDs & Vinyl, Jaz...   8.99   \n",
       "\n",
       "                    salesRank            title      mean  \n",
       "asin                                                      \n",
       "5555991584  {'Music': 939190}  Memory of Trees  4.739130  \n",
       "B0000000ZW   {'Music': 68784}   Changing Faces  4.133333  \n",
       "B00000016W   {'Music': 77205}       Pet Sounds  4.629630  \n",
       "B00000016T  {'Music': 458151}             Cars  4.851064  \n",
       "B00000017R  {'Music': 561174}       Jazz Samba  4.650000  "
      ]
     },
     "execution_count": 4,
     "metadata": {},
     "output_type": "execute_result"
    }
   ],
   "source": [
    "products=pd.read_pickle(\"products.pickle\")\n",
    "products2 = products.join(stats)\n",
    "products2.head()\n",
    "del products2['related']\n",
    "del products2['count']\n",
    "del products2['brand']\n",
    "del products2['imUrl']\n",
    "del products2['description']\n",
    "products2.head(5)"
   ]
  },
  {
   "cell_type": "markdown",
   "metadata": {},
   "source": [
    "### 2. Compute features from categories"
   ]
  },
  {
   "cell_type": "markdown",
   "metadata": {},
   "source": [
    "Seperate 5 different music categories by using lambda. And create a new column of good or bad, based on the mean rating of each product, when the rating is above 4.0, would be assigned to good."
   ]
  },
  {
   "cell_type": "code",
   "execution_count": 11,
   "metadata": {
    "collapsed": false
   },
   "outputs": [
    {
     "data": {
      "text/html": [
       "<div>\n",
       "<table border=\"1\" class=\"dataframe\">\n",
       "  <thead>\n",
       "    <tr style=\"text-align: right;\">\n",
       "      <th></th>\n",
       "      <th>categories</th>\n",
       "      <th>price</th>\n",
       "      <th>salesRank</th>\n",
       "      <th>title</th>\n",
       "      <th>mean_rating</th>\n",
       "      <th>Rock</th>\n",
       "      <th>Jazz</th>\n",
       "      <th>Dance &amp; Electronic</th>\n",
       "      <th>Country</th>\n",
       "      <th>Classical</th>\n",
       "      <th>good</th>\n",
       "    </tr>\n",
       "    <tr>\n",
       "      <th>asin</th>\n",
       "      <th></th>\n",
       "      <th></th>\n",
       "      <th></th>\n",
       "      <th></th>\n",
       "      <th></th>\n",
       "      <th></th>\n",
       "      <th></th>\n",
       "      <th></th>\n",
       "      <th></th>\n",
       "      <th></th>\n",
       "      <th></th>\n",
       "    </tr>\n",
       "  </thead>\n",
       "  <tbody>\n",
       "    <tr>\n",
       "      <th>5555991584</th>\n",
       "      <td>[[CDs &amp; Vinyl, New Age, Celtic New Age], [CDs ...</td>\n",
       "      <td>9.49</td>\n",
       "      <td>{'Music': 939190}</td>\n",
       "      <td>Memory of Trees</td>\n",
       "      <td>4.739130</td>\n",
       "      <td>False</td>\n",
       "      <td>False</td>\n",
       "      <td>False</td>\n",
       "      <td>False</td>\n",
       "      <td>False</td>\n",
       "      <td>Good</td>\n",
       "    </tr>\n",
       "    <tr>\n",
       "      <th>B0000000ZW</th>\n",
       "      <td>[[CDs &amp; Vinyl, Dance &amp; Electronic], [CDs &amp; Vin...</td>\n",
       "      <td>23.64</td>\n",
       "      <td>{'Music': 68784}</td>\n",
       "      <td>Changing Faces</td>\n",
       "      <td>4.133333</td>\n",
       "      <td>False</td>\n",
       "      <td>False</td>\n",
       "      <td>True</td>\n",
       "      <td>False</td>\n",
       "      <td>False</td>\n",
       "      <td>Good</td>\n",
       "    </tr>\n",
       "    <tr>\n",
       "      <th>B00000016W</th>\n",
       "      <td>[[CDs &amp; Vinyl, Classic Rock], [CDs &amp; Vinyl, Po...</td>\n",
       "      <td>9.49</td>\n",
       "      <td>{'Music': 77205}</td>\n",
       "      <td>Pet Sounds</td>\n",
       "      <td>4.629630</td>\n",
       "      <td>False</td>\n",
       "      <td>False</td>\n",
       "      <td>False</td>\n",
       "      <td>False</td>\n",
       "      <td>False</td>\n",
       "      <td>Good</td>\n",
       "    </tr>\n",
       "    <tr>\n",
       "      <th>B00000016T</th>\n",
       "      <td>[[CDs &amp; Vinyl, Alternative Rock, New Wave &amp; Po...</td>\n",
       "      <td>14.63</td>\n",
       "      <td>{'Music': 458151}</td>\n",
       "      <td>Cars</td>\n",
       "      <td>4.851064</td>\n",
       "      <td>False</td>\n",
       "      <td>False</td>\n",
       "      <td>False</td>\n",
       "      <td>False</td>\n",
       "      <td>False</td>\n",
       "      <td>Good</td>\n",
       "    </tr>\n",
       "    <tr>\n",
       "      <th>B00000017R</th>\n",
       "      <td>[[CDs &amp; Vinyl, Jazz, Bebop], [CDs &amp; Vinyl, Jaz...</td>\n",
       "      <td>8.99</td>\n",
       "      <td>{'Music': 561174}</td>\n",
       "      <td>Jazz Samba</td>\n",
       "      <td>4.650000</td>\n",
       "      <td>False</td>\n",
       "      <td>True</td>\n",
       "      <td>False</td>\n",
       "      <td>False</td>\n",
       "      <td>False</td>\n",
       "      <td>Good</td>\n",
       "    </tr>\n",
       "  </tbody>\n",
       "</table>\n",
       "</div>"
      ],
      "text/plain": [
       "                                                   categories  price  \\\n",
       "asin                                                                   \n",
       "5555991584  [[CDs & Vinyl, New Age, Celtic New Age], [CDs ...   9.49   \n",
       "B0000000ZW  [[CDs & Vinyl, Dance & Electronic], [CDs & Vin...  23.64   \n",
       "B00000016W  [[CDs & Vinyl, Classic Rock], [CDs & Vinyl, Po...   9.49   \n",
       "B00000016T  [[CDs & Vinyl, Alternative Rock, New Wave & Po...  14.63   \n",
       "B00000017R  [[CDs & Vinyl, Jazz, Bebop], [CDs & Vinyl, Jaz...   8.99   \n",
       "\n",
       "                    salesRank            title  mean_rating   Rock   Jazz  \\\n",
       "asin                                                                        \n",
       "5555991584  {'Music': 939190}  Memory of Trees     4.739130  False  False   \n",
       "B0000000ZW   {'Music': 68784}   Changing Faces     4.133333  False  False   \n",
       "B00000016W   {'Music': 77205}       Pet Sounds     4.629630  False  False   \n",
       "B00000016T  {'Music': 458151}             Cars     4.851064  False  False   \n",
       "B00000017R  {'Music': 561174}       Jazz Samba     4.650000  False   True   \n",
       "\n",
       "           Dance & Electronic Country Classical  good  \n",
       "asin                                                   \n",
       "5555991584              False   False     False  Good  \n",
       "B0000000ZW               True   False     False  Good  \n",
       "B00000016W              False   False     False  Good  \n",
       "B00000016T              False   False     False  Good  \n",
       "B00000017R              False   False     False  Good  "
      ]
     },
     "execution_count": 11,
     "metadata": {},
     "output_type": "execute_result"
    }
   ],
   "source": [
    "categories = [\"Rock\", \"Jazz\", \"Dance & Electronic\", \"Country\" ,\"Classical\"]\n",
    "\n",
    "for category in categories:\n",
    "    products2[category] = products2.categories.apply(lambda cats: category in cats[0])\n",
    "\n",
    "products2= products2.rename(columns={'mean': 'mean_rating'})\n",
    "products2['good'] = np.where(products2.mean_rating>4, \"Good\", \"Bad\")\n",
    "    \n",
    "products2.head()"
   ]
  },
  {
   "cell_type": "markdown",
   "metadata": {},
   "source": [
    "### 3. Build a decision tree model"
   ]
  },
  {
   "cell_type": "markdown",
   "metadata": {},
   "source": [
    "Split the data into test, train, and validation."
   ]
  },
  {
   "cell_type": "code",
   "execution_count": 20,
   "metadata": {
    "collapsed": false
   },
   "outputs": [
    {
     "name": "stderr",
     "output_type": "stream",
     "text": [
      "C:\\ProgramData\\Anaconda3\\lib\\site-packages\\sklearn\\cross_validation.py:44: DeprecationWarning: This module was deprecated in version 0.18 in favor of the model_selection module into which all the refactored classes and functions are moved. Also note that the interface of the new CV iterators are different from that of this module. This module will be removed in 0.20.\n",
      "  \"This module will be removed in 0.20.\", DeprecationWarning)\n"
     ]
    }
   ],
   "source": [
    "import sklearn\n",
    "from sklearn import tree\n",
    "from sklearn import cross_validation\n",
    "\n",
    "train,test = sklearn.cross_validation.train_test_split(products2, train_size = 0.8)\n",
    "\n",
    "clf = tree.DecisionTreeClassifier(max_depth=2)\n",
    "m = clf.fit(train[categories], train.good)"
   ]
  },
  {
   "cell_type": "code",
   "execution_count": 22,
   "metadata": {
    "collapsed": false
   },
   "outputs": [
    {
     "data": {
      "text/html": [
       "<div>\n",
       "<table border=\"1\" class=\"dataframe\">\n",
       "  <thead>\n",
       "    <tr style=\"text-align: right;\">\n",
       "      <th>col_0</th>\n",
       "      <th>Good</th>\n",
       "    </tr>\n",
       "    <tr>\n",
       "      <th>good</th>\n",
       "      <th></th>\n",
       "    </tr>\n",
       "  </thead>\n",
       "  <tbody>\n",
       "    <tr>\n",
       "      <th>Bad</th>\n",
       "      <td>1047</td>\n",
       "    </tr>\n",
       "    <tr>\n",
       "      <th>Good</th>\n",
       "      <td>2521</td>\n",
       "    </tr>\n",
       "  </tbody>\n",
       "</table>\n",
       "</div>"
      ],
      "text/plain": [
       "col_0  Good\n",
       "good       \n",
       "Bad    1047\n",
       "Good   2521"
      ]
     },
     "execution_count": 22,
     "metadata": {},
     "output_type": "execute_result"
    }
   ],
   "source": [
    "predictions = m.predict(products2[categories])\n",
    "pd.crosstab(products2.good, predictions)"
   ]
  },
  {
   "cell_type": "code",
   "execution_count": 8,
   "metadata": {
    "collapsed": false
   },
   "outputs": [
    {
     "name": "stdout",
     "output_type": "stream",
     "text": [
      "[[   0 1047]\n",
      " [   0 2521]]\n"
     ]
    }
   ],
   "source": [
    "from sklearn.metrics import confusion_matrix\n",
    "print(confusion_matrix(products2.good, predictions))"
   ]
  },
  {
   "cell_type": "code",
   "execution_count": 23,
   "metadata": {
    "collapsed": false
   },
   "outputs": [
    {
     "data": {
      "text/plain": [
       "0.70655829596412556"
      ]
     },
     "execution_count": 23,
     "metadata": {},
     "output_type": "execute_result"
    }
   ],
   "source": [
    "correct = products2.good == predictions\n",
    "correct.mean()"
   ]
  },
  {
   "cell_type": "code",
   "execution_count": 10,
   "metadata": {
    "collapsed": false
   },
   "outputs": [
    {
     "ename": "SyntaxError",
     "evalue": "unexpected EOF while parsing (<ipython-input-10-d195ab179a70>, line 6)",
     "output_type": "error",
     "traceback": [
      "\u001b[0;36m  File \u001b[0;32m\"<ipython-input-10-d195ab179a70>\"\u001b[0;36m, line \u001b[0;32m6\u001b[0m\n\u001b[0;31m    #graph = pydotplus.graph_from_dot_data(dot_data)\u001b[0m\n\u001b[0m                                                      ^\u001b[0m\n\u001b[0;31mSyntaxError\u001b[0m\u001b[0;31m:\u001b[0m unexpected EOF while parsing\n"
     ]
    }
   ],
   "source": [
    "import pydotplus\n",
    "from IPython.display import Image\n",
    "dot_data = tree.export_graphviz(m,\n",
    "  feature_names=categories, class_names=['bad', 'good'], \n",
    "  filled=True, rounded=True)  \n",
    "graph = pydotplus.graph_from_dot_data(dot_data)  "
   ]
  },
  {
   "cell_type": "markdown",
   "metadata": {},
   "source": [
    "### 4. Test the decision tree model"
   ]
  },
  {
   "cell_type": "code",
   "execution_count": 24,
   "metadata": {
    "collapsed": true
   },
   "outputs": [],
   "source": [
    "from sklearn import tree\n",
    "clf = tree.DecisionTreeClassifier(max_depth=2)\n",
    "m = clf.fit(test[categories], test.good)"
   ]
  },
  {
   "cell_type": "code",
   "execution_count": 25,
   "metadata": {
    "collapsed": false
   },
   "outputs": [
    {
     "data": {
      "text/html": [
       "<div>\n",
       "<table border=\"1\" class=\"dataframe\">\n",
       "  <thead>\n",
       "    <tr style=\"text-align: right;\">\n",
       "      <th>col_0</th>\n",
       "      <th>Good</th>\n",
       "    </tr>\n",
       "    <tr>\n",
       "      <th>good</th>\n",
       "      <th></th>\n",
       "    </tr>\n",
       "  </thead>\n",
       "  <tbody>\n",
       "    <tr>\n",
       "      <th>Bad</th>\n",
       "      <td>1047</td>\n",
       "    </tr>\n",
       "    <tr>\n",
       "      <th>Good</th>\n",
       "      <td>2521</td>\n",
       "    </tr>\n",
       "  </tbody>\n",
       "</table>\n",
       "</div>"
      ],
      "text/plain": [
       "col_0  Good\n",
       "good       \n",
       "Bad    1047\n",
       "Good   2521"
      ]
     },
     "execution_count": 25,
     "metadata": {},
     "output_type": "execute_result"
    }
   ],
   "source": [
    "predictions = m.predict(products2[categories])\n",
    "pd.crosstab(products2.good, predictions)"
   ]
  },
  {
   "cell_type": "code",
   "execution_count": 26,
   "metadata": {
    "collapsed": false
   },
   "outputs": [
    {
     "name": "stdout",
     "output_type": "stream",
     "text": [
      "[[   0 1047]\n",
      " [   0 2521]]\n"
     ]
    }
   ],
   "source": [
    "from sklearn.metrics import confusion_matrix\n",
    "print(confusion_matrix(products2.good, predictions))"
   ]
  },
  {
   "cell_type": "code",
   "execution_count": null,
   "metadata": {
    "collapsed": true
   },
   "outputs": [],
   "source": []
  }
 ],
 "metadata": {
  "anaconda-cloud": {},
  "kernelspec": {
   "display_name": "Python 3",
   "language": "python",
   "name": "python3"
  },
  "language_info": {
   "codemirror_mode": {
    "name": "ipython",
    "version": 3
   },
   "file_extension": ".py",
   "mimetype": "text/x-python",
   "name": "python",
   "nbconvert_exporter": "python",
   "pygments_lexer": "ipython3",
   "version": "3.6.0"
  }
 },
 "nbformat": 4,
 "nbformat_minor": 2
}
