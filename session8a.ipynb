{
 "cells": [
  {
   "cell_type": "code",
   "execution_count": 25,
   "metadata": {
    "collapsed": true
   },
   "outputs": [],
   "source": [
    "%matplotlib inline"
   ]
  },
  {
   "cell_type": "code",
   "execution_count": 4,
   "metadata": {
    "collapsed": false
   },
   "outputs": [],
   "source": [
    "import pandas as pd\n",
    "reviews = pd.read_pickle(\"reviews.pickle\")\n",
    "products = pd.read_pickle(\"products.pickle\")"
   ]
  },
  {
   "cell_type": "code",
   "execution_count": 3,
   "metadata": {
    "collapsed": true
   },
   "outputs": [],
   "source": [
    "train = reviews.sample(frac=.8)\n",
    "test = reviews.drop(train.index)"
   ]
  },
  {
   "cell_type": "code",
   "execution_count": 78,
   "metadata": {
    "collapsed": false
   },
   "outputs": [
    {
     "data": {
      "text/html": [
       "<div>\n",
       "<table border=\"1\" class=\"dataframe\">\n",
       "  <thead>\n",
       "    <tr style=\"text-align: right;\">\n",
       "      <th></th>\n",
       "      <th>brand</th>\n",
       "      <th>categories</th>\n",
       "      <th>description</th>\n",
       "      <th>imUrl</th>\n",
       "      <th>price</th>\n",
       "      <th>related</th>\n",
       "      <th>salesRank</th>\n",
       "      <th>title</th>\n",
       "      <th>avgrating</th>\n",
       "      <th>good</th>\n",
       "      <th>ratingZ</th>\n",
       "      <th>priceZ</th>\n",
       "      <th>nreviews</th>\n",
       "    </tr>\n",
       "    <tr>\n",
       "      <th>asin</th>\n",
       "      <th></th>\n",
       "      <th></th>\n",
       "      <th></th>\n",
       "      <th></th>\n",
       "      <th></th>\n",
       "      <th></th>\n",
       "      <th></th>\n",
       "      <th></th>\n",
       "      <th></th>\n",
       "      <th></th>\n",
       "      <th></th>\n",
       "      <th></th>\n",
       "      <th></th>\n",
       "    </tr>\n",
       "  </thead>\n",
       "  <tbody>\n",
       "    <tr>\n",
       "      <th>9742356831</th>\n",
       "      <td>Mae Ploy</td>\n",
       "      <td>[[Grocery &amp; Gourmet Food]]</td>\n",
       "      <td>Used to make various curry soups and stir fry ...</td>\n",
       "      <td>http://ecx.images-amazon.com/images/I/41pQp67A...</td>\n",
       "      <td>7.23</td>\n",
       "      <td>{'bought_together': ['B000EI2LLO', 'B000EICISA...</td>\n",
       "      <td>{'Grocery &amp; Gourmet Food': 3434}</td>\n",
       "      <td>Mae Ploy Thai Green Curry Paste - 14 oz jar</td>\n",
       "      <td>4.733333</td>\n",
       "      <td>True</td>\n",
       "      <td>0.745197</td>\n",
       "      <td>-1.133104</td>\n",
       "      <td>15</td>\n",
       "    </tr>\n",
       "    <tr>\n",
       "      <th>B00004S1C5</th>\n",
       "      <td>HIC Harold Import Co.</td>\n",
       "      <td>[[Grocery &amp; Gourmet Food, Cooking &amp; Baking, Fo...</td>\n",
       "      <td>From Easter eggs to colorful cookies, Spectrum...</td>\n",
       "      <td>http://ecx.images-amazon.com/images/I/41F75K9F...</td>\n",
       "      <td>9.76</td>\n",
       "      <td>{'bought_together': ['B0000CFMLT'], 'also_boug...</td>\n",
       "      <td>{'Kitchen &amp; Dining': 4494}</td>\n",
       "      <td>Ateco Food Coloring Kit, 6 colors</td>\n",
       "      <td>4.142857</td>\n",
       "      <td>False</td>\n",
       "      <td>-0.499066</td>\n",
       "      <td>-0.953205</td>\n",
       "      <td>7</td>\n",
       "    </tr>\n",
       "    <tr>\n",
       "      <th>B0000531B7</th>\n",
       "      <td>Powerbar</td>\n",
       "      <td>[[Grocery &amp; Gourmet Food]]</td>\n",
       "      <td></td>\n",
       "      <td>http://ecx.images-amazon.com/images/I/519SuVj1...</td>\n",
       "      <td>24.75</td>\n",
       "      <td>{'bought_together': ['B009VV7G60', 'B00DZGEY44...</td>\n",
       "      <td>{'Grocery &amp; Gourmet Food': 2858}</td>\n",
       "      <td>PowerBar Harvest Energy Bars, Double Chocolate...</td>\n",
       "      <td>4.555556</td>\n",
       "      <td>True</td>\n",
       "      <td>0.370581</td>\n",
       "      <td>0.112679</td>\n",
       "      <td>9</td>\n",
       "    </tr>\n",
       "    <tr>\n",
       "      <th>B00005344V</th>\n",
       "      <td>Traditional Medicinals</td>\n",
       "      <td>[[Grocery &amp; Gourmet Food]]</td>\n",
       "      <td>For nearly forty years, we&amp;#x2019;ve been pass...</td>\n",
       "      <td>http://ecx.images-amazon.com/images/I/51H54cd-...</td>\n",
       "      <td>21.74</td>\n",
       "      <td>{'bought_together': ['B0009F3POO', 'B0009F3POE...</td>\n",
       "      <td>{'Grocery &amp; Gourmet Food': 5034}</td>\n",
       "      <td>Traditional Medicinals Breathe Easy, 16-Count ...</td>\n",
       "      <td>4.428571</td>\n",
       "      <td>False</td>\n",
       "      <td>0.102997</td>\n",
       "      <td>-0.101351</td>\n",
       "      <td>7</td>\n",
       "    </tr>\n",
       "    <tr>\n",
       "      <th>B00005C2M2</th>\n",
       "      <td>American Outdoor Products</td>\n",
       "      <td>[[Grocery &amp; Gourmet Food]]</td>\n",
       "      <td>Funkyfoodshop is the #1 seller of space food o...</td>\n",
       "      <td>http://ecx.images-amazon.com/images/I/518Pt3s4...</td>\n",
       "      <td>23.50</td>\n",
       "      <td>{'bought_together': ['B000JUFD8U', 'B00005C2M3...</td>\n",
       "      <td>{}</td>\n",
       "      <td>American Outdoor Products Astronaut Ice Cream ...</td>\n",
       "      <td>5.000000</td>\n",
       "      <td>True</td>\n",
       "      <td>1.307123</td>\n",
       "      <td>0.023796</td>\n",
       "      <td>7</td>\n",
       "    </tr>\n",
       "  </tbody>\n",
       "</table>\n",
       "</div>"
      ],
      "text/plain": [
       "                                brand  \\\n",
       "asin                                    \n",
       "9742356831                   Mae Ploy   \n",
       "B00004S1C5      HIC Harold Import Co.   \n",
       "B0000531B7                   Powerbar   \n",
       "B00005344V     Traditional Medicinals   \n",
       "B00005C2M2  American Outdoor Products   \n",
       "\n",
       "                                                   categories  \\\n",
       "asin                                                            \n",
       "9742356831                         [[Grocery & Gourmet Food]]   \n",
       "B00004S1C5  [[Grocery & Gourmet Food, Cooking & Baking, Fo...   \n",
       "B0000531B7                         [[Grocery & Gourmet Food]]   \n",
       "B00005344V                         [[Grocery & Gourmet Food]]   \n",
       "B00005C2M2                         [[Grocery & Gourmet Food]]   \n",
       "\n",
       "                                                  description  \\\n",
       "asin                                                            \n",
       "9742356831  Used to make various curry soups and stir fry ...   \n",
       "B00004S1C5  From Easter eggs to colorful cookies, Spectrum...   \n",
       "B0000531B7                                                      \n",
       "B00005344V  For nearly forty years, we&#x2019;ve been pass...   \n",
       "B00005C2M2  Funkyfoodshop is the #1 seller of space food o...   \n",
       "\n",
       "                                                        imUrl  price  \\\n",
       "asin                                                                   \n",
       "9742356831  http://ecx.images-amazon.com/images/I/41pQp67A...   7.23   \n",
       "B00004S1C5  http://ecx.images-amazon.com/images/I/41F75K9F...   9.76   \n",
       "B0000531B7  http://ecx.images-amazon.com/images/I/519SuVj1...  24.75   \n",
       "B00005344V  http://ecx.images-amazon.com/images/I/51H54cd-...  21.74   \n",
       "B00005C2M2  http://ecx.images-amazon.com/images/I/518Pt3s4...  23.50   \n",
       "\n",
       "                                                      related  \\\n",
       "asin                                                            \n",
       "9742356831  {'bought_together': ['B000EI2LLO', 'B000EICISA...   \n",
       "B00004S1C5  {'bought_together': ['B0000CFMLT'], 'also_boug...   \n",
       "B0000531B7  {'bought_together': ['B009VV7G60', 'B00DZGEY44...   \n",
       "B00005344V  {'bought_together': ['B0009F3POO', 'B0009F3POE...   \n",
       "B00005C2M2  {'bought_together': ['B000JUFD8U', 'B00005C2M3...   \n",
       "\n",
       "                                   salesRank  \\\n",
       "asin                                           \n",
       "9742356831  {'Grocery & Gourmet Food': 3434}   \n",
       "B00004S1C5        {'Kitchen & Dining': 4494}   \n",
       "B0000531B7  {'Grocery & Gourmet Food': 2858}   \n",
       "B00005344V  {'Grocery & Gourmet Food': 5034}   \n",
       "B00005C2M2                                {}   \n",
       "\n",
       "                                                        title  avgrating  \\\n",
       "asin                                                                       \n",
       "9742356831        Mae Ploy Thai Green Curry Paste - 14 oz jar   4.733333   \n",
       "B00004S1C5                  Ateco Food Coloring Kit, 6 colors   4.142857   \n",
       "B0000531B7  PowerBar Harvest Energy Bars, Double Chocolate...   4.555556   \n",
       "B00005344V  Traditional Medicinals Breathe Easy, 16-Count ...   4.428571   \n",
       "B00005C2M2  American Outdoor Products Astronaut Ice Cream ...   5.000000   \n",
       "\n",
       "             good   ratingZ    priceZ  nreviews  \n",
       "asin                                             \n",
       "9742356831   True  0.745197 -1.133104        15  \n",
       "B00004S1C5  False -0.499066 -0.953205         7  \n",
       "B0000531B7   True  0.370581  0.112679         9  \n",
       "B00005344V  False  0.102997 -0.101351         7  \n",
       "B00005C2M2   True  1.307123  0.023796         7  "
      ]
     },
     "execution_count": 78,
     "metadata": {},
     "output_type": "execute_result"
    }
   ],
   "source": [
    "from scipy.stats import zscore\n",
    "products['avgrating'] = reviews.groupby('asin').overall.mean()\n",
    "products['good'] = products.avgrating > 4.5\n",
    "products['nreviews'] = reviews.asin.value_counts()\n",
    "products = products.dropna(subset=[\"price\"])\n",
    "products['ratingZ'] = zscore(products.avgrating)\n",
    "products['priceZ'] = zscore(products.price)\n",
    "products.head()\n"
   ]
  },
  {
   "cell_type": "code",
   "execution_count": 45,
   "metadata": {
    "collapsed": true
   },
   "outputs": [],
   "source": [
    "train = products.sample(frac=.8)\n",
    "test = products.drop(train.index)"
   ]
  },
  {
   "cell_type": "code",
   "execution_count": 57,
   "metadata": {
    "collapsed": true
   },
   "outputs": [],
   "source": [
    "from sklearn import neighbors\n",
    "knn = neighbors.KNeighborsClassifier(1)"
   ]
  },
  {
   "cell_type": "code",
   "execution_count": 89,
   "metadata": {
    "collapsed": false
   },
   "outputs": [
    {
     "data": {
      "text/plain": [
       "KNeighborsClassifier(algorithm='auto', leaf_size=30, metric='minkowski',\n",
       "           metric_params=None, n_jobs=1, n_neighbors=1, p=2,\n",
       "           weights='uniform')"
      ]
     },
     "execution_count": 89,
     "metadata": {},
     "output_type": "execute_result"
    }
   ],
   "source": [
    "knnm = knn.fit(products[[\"price\", \"nreviews\"]], products.good)\n",
    "knnm"
   ]
  },
  {
   "cell_type": "code",
   "execution_count": 20,
   "metadata": {
    "collapsed": true
   },
   "outputs": [],
   "source": [
    "predictions = knn.predict(test[[\"avgrating\", \"price\"]])"
   ]
  },
  {
   "cell_type": "code",
   "execution_count": 61,
   "metadata": {
    "collapsed": false,
    "scrolled": true
   },
   "outputs": [],
   "source": [
    "import matplotlib.pyplot as plt\n",
    "from matplotlib.colors import ListedColormap"
   ]
  },
  {
   "cell_type": "code",
   "execution_count": 83,
   "metadata": {
    "collapsed": false
   },
   "outputs": [],
   "source": [
    "import numpy as np\n",
    "xs, ys = np.arange(0, 160, 1), np.arange(0, 800, 1)"
   ]
  },
  {
   "cell_type": "code",
   "execution_count": 84,
   "metadata": {
    "collapsed": false
   },
   "outputs": [],
   "source": [
    "xx,yy = np.meshgrid(xs, ys)"
   ]
  },
  {
   "cell_type": "code",
   "execution_count": 71,
   "metadata": {
    "collapsed": false
   },
   "outputs": [
    {
     "data": {
      "text/plain": [
       "array([[1, 1],\n",
       "       [2, 1],\n",
       "       [3, 1],\n",
       "       [4, 1],\n",
       "       [5, 1],\n",
       "       [1, 2],\n",
       "       [2, 2],\n",
       "       [3, 2],\n",
       "       [4, 2],\n",
       "       [5, 2],\n",
       "       [1, 3],\n",
       "       [2, 3],\n",
       "       [3, 3],\n",
       "       [4, 3],\n",
       "       [5, 3],\n",
       "       [1, 4],\n",
       "       [2, 4],\n",
       "       [3, 4],\n",
       "       [4, 4],\n",
       "       [5, 4],\n",
       "       [1, 5],\n",
       "       [2, 5],\n",
       "       [3, 5],\n",
       "       [4, 5],\n",
       "       [5, 5]])"
      ]
     },
     "execution_count": 71,
     "metadata": {},
     "output_type": "execute_result"
    }
   ],
   "source": [
    "np.c_[xx.ravel(), yy.ravel()]"
   ]
  },
  {
   "cell_type": "code",
   "execution_count": 90,
   "metadata": {
    "collapsed": false
   },
   "outputs": [
    {
     "data": {
      "text/plain": [
       "array([ True, False,  True, ..., False, False, False], dtype=bool)"
      ]
     },
     "execution_count": 90,
     "metadata": {},
     "output_type": "execute_result"
    }
   ],
   "source": [
    "points = np.c_[xx.ravel(), yy.ravel()]\n",
    "z = knnm.predict(points)\n",
    "z"
   ]
  },
  {
   "cell_type": "code",
   "execution_count": 91,
   "metadata": {
    "collapsed": false,
    "scrolled": true
   },
   "outputs": [
    {
     "data": {
      "text/plain": [
       "array([[ True, False,  True, ...,  True,  True,  True],\n",
       "       [ True, False,  True, ...,  True,  True,  True],\n",
       "       [ True, False,  True, ...,  True,  True,  True],\n",
       "       ..., \n",
       "       [False, False, False, ..., False, False, False],\n",
       "       [False, False, False, ..., False, False, False],\n",
       "       [False, False, False, ..., False, False, False]], dtype=bool)"
      ]
     },
     "execution_count": 91,
     "metadata": {},
     "output_type": "execute_result"
    }
   ],
   "source": [
    "z = z.reshape(xx.shape)\n",
    "z"
   ]
  },
  {
   "cell_type": "code",
   "execution_count": 63,
   "metadata": {
    "collapsed": false
   },
   "outputs": [
    {
     "data": {
      "text/plain": [
       "0"
      ]
     },
     "execution_count": 63,
     "metadata": {},
     "output_type": "execute_result"
    }
   ],
   "source": [
    "x = False\n",
    "int(x)"
   ]
  },
  {
   "cell_type": "code",
   "execution_count": 92,
   "metadata": {
    "collapsed": false,
    "scrolled": true
   },
   "outputs": [
    {
     "data": {
      "text/plain": [
       "<matplotlib.collections.PathCollection at 0x7f98af9384e0>"
      ]
     },
     "execution_count": 92,
     "metadata": {},
     "output_type": "execute_result"
    },
    {
     "data": {
      "image/png": "[encoded data removed]",
      "text/plain": [
       "<matplotlib.figure.Figure at 0x7f98af84efd0>"
      ]
     },
     "metadata": {},
     "output_type": "display_data"
    }
   ],
   "source": [
    "plt.pcolormesh(xx, yy, z, cmap=ListedColormap([\"red\", \"green\"]))\n",
    "plt.scatter(products.price, products.nreviews, c=products.good,\n",
    "            cmap=ListedColormap([\"red\", \"green\"]))\n",
    "#plt.xlim(-4, 1); plt.ylim(-1, 4);"
   ]
  },
  {
   "cell_type": "code",
   "execution_count": 93,
   "metadata": {
    "collapsed": false
   },
   "outputs": [
    {
     "data": {
      "text/html": [
       "<div>\n",
       "<table border=\"1\" class=\"dataframe\">\n",
       "  <thead>\n",
       "    <tr style=\"text-align: right;\">\n",
       "      <th></th>\n",
       "      <th>asin</th>\n",
       "      <th>helpful</th>\n",
       "      <th>overall</th>\n",
       "      <th>reviewText</th>\n",
       "      <th>reviewTime</th>\n",
       "      <th>reviewerID</th>\n",
       "      <th>reviewerName</th>\n",
       "      <th>summary</th>\n",
       "      <th>unixReviewTime</th>\n",
       "    </tr>\n",
       "  </thead>\n",
       "  <tbody>\n",
       "    <tr>\n",
       "      <th>0</th>\n",
       "      <td>616719923X</td>\n",
       "      <td>[0, 0]</td>\n",
       "      <td>4.0</td>\n",
       "      <td>Just another flavor of Kit Kat but the taste i...</td>\n",
       "      <td>06 1, 2013</td>\n",
       "      <td>A1VEELTKS8NLZB</td>\n",
       "      <td>Amazon Customer</td>\n",
       "      <td>Good Taste</td>\n",
       "      <td>1370044800</td>\n",
       "    </tr>\n",
       "    <tr>\n",
       "      <th>1</th>\n",
       "      <td>616719923X</td>\n",
       "      <td>[0, 1]</td>\n",
       "      <td>3.0</td>\n",
       "      <td>I bought this on impulse and it comes from Jap...</td>\n",
       "      <td>05 19, 2014</td>\n",
       "      <td>A14R9XMZVJ6INB</td>\n",
       "      <td>amf0001</td>\n",
       "      <td>3.5 stars,  sadly not as wonderful as I had hoped</td>\n",
       "      <td>1400457600</td>\n",
       "    </tr>\n",
       "    <tr>\n",
       "      <th>2</th>\n",
       "      <td>616719923X</td>\n",
       "      <td>[3, 4]</td>\n",
       "      <td>4.0</td>\n",
       "      <td>Really good. Great gift for any fan of green t...</td>\n",
       "      <td>10 8, 2013</td>\n",
       "      <td>A27IQHDZFQFNGG</td>\n",
       "      <td>Caitlin</td>\n",
       "      <td>Yum!</td>\n",
       "      <td>1381190400</td>\n",
       "    </tr>\n",
       "    <tr>\n",
       "      <th>3</th>\n",
       "      <td>616719923X</td>\n",
       "      <td>[0, 0]</td>\n",
       "      <td>5.0</td>\n",
       "      <td>I had never had it before, was curious to see ...</td>\n",
       "      <td>05 20, 2013</td>\n",
       "      <td>A31QY5TASILE89</td>\n",
       "      <td>DebraDownSth</td>\n",
       "      <td>Unexpected flavor meld</td>\n",
       "      <td>1369008000</td>\n",
       "    </tr>\n",
       "    <tr>\n",
       "      <th>4</th>\n",
       "      <td>616719923X</td>\n",
       "      <td>[1, 2]</td>\n",
       "      <td>4.0</td>\n",
       "      <td>I've been looking forward to trying these afte...</td>\n",
       "      <td>05 26, 2013</td>\n",
       "      <td>A2LWK003FFMCI5</td>\n",
       "      <td>Diana X.</td>\n",
       "      <td>Not a very strong tea flavor, but still yummy ...</td>\n",
       "      <td>1369526400</td>\n",
       "    </tr>\n",
       "  </tbody>\n",
       "</table>\n",
       "</div>"
      ],
      "text/plain": [
       "         asin helpful  overall  \\\n",
       "0  616719923X  [0, 0]      4.0   \n",
       "1  616719923X  [0, 1]      3.0   \n",
       "2  616719923X  [3, 4]      4.0   \n",
       "3  616719923X  [0, 0]      5.0   \n",
       "4  616719923X  [1, 2]      4.0   \n",
       "\n",
       "                                          reviewText   reviewTime  \\\n",
       "0  Just another flavor of Kit Kat but the taste i...   06 1, 2013   \n",
       "1  I bought this on impulse and it comes from Jap...  05 19, 2014   \n",
       "2  Really good. Great gift for any fan of green t...   10 8, 2013   \n",
       "3  I had never had it before, was curious to see ...  05 20, 2013   \n",
       "4  I've been looking forward to trying these afte...  05 26, 2013   \n",
       "\n",
       "       reviewerID     reviewerName  \\\n",
       "0  A1VEELTKS8NLZB  Amazon Customer   \n",
       "1  A14R9XMZVJ6INB          amf0001   \n",
       "2  A27IQHDZFQFNGG          Caitlin   \n",
       "3  A31QY5TASILE89     DebraDownSth   \n",
       "4  A2LWK003FFMCI5         Diana X.   \n",
       "\n",
       "                                             summary  unixReviewTime  \n",
       "0                                         Good Taste      1370044800  \n",
       "1  3.5 stars,  sadly not as wonderful as I had hoped      1400457600  \n",
       "2                                               Yum!      1381190400  \n",
       "3                             Unexpected flavor meld      1369008000  \n",
       "4  Not a very strong tea flavor, but still yummy ...      1369526400  "
      ]
     },
     "execution_count": 93,
     "metadata": {},
     "output_type": "execute_result"
    }
   ],
   "source": [
    "reviews.head()"
   ]
  },
  {
   "cell_type": "code",
   "execution_count": 21,
   "metadata": {
    "collapsed": false,
    "scrolled": true
   },
   "outputs": [
    {
     "data": {
      "text/plain": [
       "asin\n",
       "B0000CCZYY     True\n",
       "B0000CDBQN     True\n",
       "B0000CFLIL     True\n",
       "B0000CNU15     True\n",
       "B0000DANYR     True\n",
       "B0000DD8V3     True\n",
       "B0000DGDMO    False\n",
       "B0000E5JIU     True\n",
       "B0000GH6UG     True\n",
       "B0000V8IOE     True\n",
       "B0000YVCI0     True\n",
       "B000144GWS     True\n",
       "B00014CZP8     True\n",
       "B00014HS2S     True\n",
       "B0001590IC     True\n",
       "B00016JGZI     True\n",
       "B00016LA7K     True\n",
       "B00016LA8E     True\n",
       "B00016UX1E     True\n",
       "B00016UX0K     True\n",
       "B00016XJM4     True\n",
       "B00017028M     True\n",
       "B000173IHE     True\n",
       "B00017LF24     True\n",
       "B0001AVRRE    False\n",
       "B0001CXRL6     True\n",
       "B0001CXUH2     True\n",
       "B0001DMTPU     True\n",
       "B0001DMTJG     True\n",
       "B0001EQN88     True\n",
       "              ...  \n",
       "B00DF0KXYK     True\n",
       "B00DGPCI56     True\n",
       "B00DHETWR8     True\n",
       "B00DILCU92     True\n",
       "B00DM07VHA     True\n",
       "B00DRA8HWI     True\n",
       "B00DUQDIJG     True\n",
       "B00E0C6NCI     True\n",
       "B00E0WB292     True\n",
       "B00E9HKMSU     True\n",
       "B00EKR4M8K     True\n",
       "B00ENBP2VE     True\n",
       "B00EO59U7G    False\n",
       "B00EPTYHGA     True\n",
       "B00ERWVI8A     True\n",
       "B00F9VCQ2A     True\n",
       "B00FB5CUY8     True\n",
       "B00FKZ5TL0     True\n",
       "B00FMFJ2LG     True\n",
       "B00FX1QCQC     True\n",
       "B00H727M6O     True\n",
       "B00H7282WW     True\n",
       "B00H72831M     True\n",
       "B00HSYVFRS     True\n",
       "B00HSYVFQY     True\n",
       "B00IDXROMS     True\n",
       "B00IRFM1JS     True\n",
       "B00IRL93SY     True\n",
       "B00K00H9I6     True\n",
       "B00KCJRVO2     True\n",
       "Name: good, dtype: bool"
      ]
     },
     "execution_count": 21,
     "metadata": {},
     "output_type": "execute_result"
    }
   ],
   "source": [
    "predictions == test.good"
   ]
  },
  {
   "cell_type": "code",
   "execution_count": 94,
   "metadata": {
    "collapsed": false
   },
   "outputs": [
    {
     "data": {
      "text/html": [
       "<div>\n",
       "<table border=\"1\" class=\"dataframe\">\n",
       "  <thead>\n",
       "    <tr style=\"text-align: right;\">\n",
       "      <th></th>\n",
       "      <th>asin</th>\n",
       "      <th>helpful</th>\n",
       "      <th>overall</th>\n",
       "      <th>reviewText</th>\n",
       "      <th>reviewTime</th>\n",
       "      <th>reviewerID</th>\n",
       "      <th>reviewerName</th>\n",
       "      <th>summary</th>\n",
       "      <th>unixReviewTime</th>\n",
       "    </tr>\n",
       "  </thead>\n",
       "  <tbody>\n",
       "    <tr>\n",
       "      <th>0</th>\n",
       "      <td>616719923X</td>\n",
       "      <td>[0, 0]</td>\n",
       "      <td>4.0</td>\n",
       "      <td>Just another flavor of Kit Kat but the taste i...</td>\n",
       "      <td>06 1, 2013</td>\n",
       "      <td>A1VEELTKS8NLZB</td>\n",
       "      <td>Amazon Customer</td>\n",
       "      <td>Good Taste</td>\n",
       "      <td>1370044800</td>\n",
       "    </tr>\n",
       "    <tr>\n",
       "      <th>1</th>\n",
       "      <td>616719923X</td>\n",
       "      <td>[0, 1]</td>\n",
       "      <td>3.0</td>\n",
       "      <td>I bought this on impulse and it comes from Jap...</td>\n",
       "      <td>05 19, 2014</td>\n",
       "      <td>A14R9XMZVJ6INB</td>\n",
       "      <td>amf0001</td>\n",
       "      <td>3.5 stars,  sadly not as wonderful as I had hoped</td>\n",
       "      <td>1400457600</td>\n",
       "    </tr>\n",
       "    <tr>\n",
       "      <th>2</th>\n",
       "      <td>616719923X</td>\n",
       "      <td>[3, 4]</td>\n",
       "      <td>4.0</td>\n",
       "      <td>Really good. Great gift for any fan of green t...</td>\n",
       "      <td>10 8, 2013</td>\n",
       "      <td>A27IQHDZFQFNGG</td>\n",
       "      <td>Caitlin</td>\n",
       "      <td>Yum!</td>\n",
       "      <td>1381190400</td>\n",
       "    </tr>\n",
       "    <tr>\n",
       "      <th>3</th>\n",
       "      <td>616719923X</td>\n",
       "      <td>[0, 0]</td>\n",
       "      <td>5.0</td>\n",
       "      <td>I had never had it before, was curious to see ...</td>\n",
       "      <td>05 20, 2013</td>\n",
       "      <td>A31QY5TASILE89</td>\n",
       "      <td>DebraDownSth</td>\n",
       "      <td>Unexpected flavor meld</td>\n",
       "      <td>1369008000</td>\n",
       "    </tr>\n",
       "    <tr>\n",
       "      <th>4</th>\n",
       "      <td>616719923X</td>\n",
       "      <td>[1, 2]</td>\n",
       "      <td>4.0</td>\n",
       "      <td>I've been looking forward to trying these afte...</td>\n",
       "      <td>05 26, 2013</td>\n",
       "      <td>A2LWK003FFMCI5</td>\n",
       "      <td>Diana X.</td>\n",
       "      <td>Not a very strong tea flavor, but still yummy ...</td>\n",
       "      <td>1369526400</td>\n",
       "    </tr>\n",
       "  </tbody>\n",
       "</table>\n",
       "</div>"
      ],
      "text/plain": [
       "         asin helpful  overall  \\\n",
       "0  616719923X  [0, 0]      4.0   \n",
       "1  616719923X  [0, 1]      3.0   \n",
       "2  616719923X  [3, 4]      4.0   \n",
       "3  616719923X  [0, 0]      5.0   \n",
       "4  616719923X  [1, 2]      4.0   \n",
       "\n",
       "                                          reviewText   reviewTime  \\\n",
       "0  Just another flavor of Kit Kat but the taste i...   06 1, 2013   \n",
       "1  I bought this on impulse and it comes from Jap...  05 19, 2014   \n",
       "2  Really good. Great gift for any fan of green t...   10 8, 2013   \n",
       "3  I had never had it before, was curious to see ...  05 20, 2013   \n",
       "4  I've been looking forward to trying these afte...  05 26, 2013   \n",
       "\n",
       "       reviewerID     reviewerName  \\\n",
       "0  A1VEELTKS8NLZB  Amazon Customer   \n",
       "1  A14R9XMZVJ6INB          amf0001   \n",
       "2  A27IQHDZFQFNGG          Caitlin   \n",
       "3  A31QY5TASILE89     DebraDownSth   \n",
       "4  A2LWK003FFMCI5         Diana X.   \n",
       "\n",
       "                                             summary  unixReviewTime  \n",
       "0                                         Good Taste      1370044800  \n",
       "1  3.5 stars,  sadly not as wonderful as I had hoped      1400457600  \n",
       "2                                               Yum!      1381190400  \n",
       "3                             Unexpected flavor meld      1369008000  \n",
       "4  Not a very strong tea flavor, but still yummy ...      1369526400  "
      ]
     },
     "execution_count": 94,
     "metadata": {},
     "output_type": "execute_result"
    }
   ],
   "source": [
    "reviews.head()"
   ]
  },
  {
   "cell_type": "code",
   "execution_count": 112,
   "metadata": {
    "collapsed": false
   },
   "outputs": [
    {
     "data": {
      "text/plain": [
       "<151254x15851 sparse matrix of type '<class 'numpy.int64'>'\n",
       "\twith 9064073 stored elements in Compressed Sparse Row format>"
      ]
     },
     "execution_count": 112,
     "metadata": {},
     "output_type": "execute_result"
    }
   ],
   "source": [
    "from sklearn.feature_extraction.text import CountVectorizer\n",
    "c = CountVectorizer(min_df=10)\n",
    "dtm = c.fit_transform(reviews.reviewText)\n",
    "dtm"
   ]
  },
  {
   "cell_type": "code",
   "execution_count": 108,
   "metadata": {
    "collapsed": false
   },
   "outputs": [],
   "source": [
    "from sklearn.naive_bayes import MultinomialNB\n",
    "nbc = MultinomialNB()\n",
    "f = nbc.fit(dtm, reviews.overall > 4)"
   ]
  },
  {
   "cell_type": "code",
   "execution_count": 109,
   "metadata": {
    "collapsed": true
   },
   "outputs": [],
   "source": [
    "predictions = nbc.predict(dtm)"
   ]
  },
  {
   "cell_type": "code",
   "execution_count": 111,
   "metadata": {
    "collapsed": true
   },
   "outputs": [
    {
     "data": {
      "text/html": [
       "<div>\n",
       "<table border=\"1\" class=\"dataframe\">\n",
       "  <thead>\n",
       "    <tr style=\"text-align: right;\">\n",
       "      <th>overall</th>\n",
       "      <th>False</th>\n",
       "      <th>True</th>\n",
       "    </tr>\n",
       "    <tr>\n",
       "      <th>row_0</th>\n",
       "      <th></th>\n",
       "      <th></th>\n",
       "    </tr>\n",
       "  </thead>\n",
       "  <tbody>\n",
       "    <tr>\n",
       "      <th>False</th>\n",
       "      <td>46932</td>\n",
       "      <td>14003</td>\n",
       "    </tr>\n",
       "    <tr>\n",
       "      <th>True</th>\n",
       "      <td>16876</td>\n",
       "      <td>73443</td>\n",
       "    </tr>\n",
       "  </tbody>\n",
       "</table>\n",
       "</div>"
      ],
      "text/plain": [
       "overall  False  True \n",
       "row_0                \n",
       "False    46932  14003\n",
       "True     16876  73443"
      ]
     },
     "execution_count": 111,
     "metadata": {},
     "output_type": "execute_result"
    }
   ],
   "source": [
    "pd.crosstab(predictions, reviews.overall>4)"
   ]
  },
  {
   "cell_type": "code",
   "execution_count": 113,
   "metadata": {
    "collapsed": true
   },
   "outputs": [],
   "source": [
    "# Sentiment Analysis\n",
    "\n",
    "train = reviews.sample(frac=.8)\n",
    "test = reviews.drop(train.index)\n",
    "                      "
   ]
  },
  {
   "cell_type": "code",
   "execution_count": 114,
   "metadata": {
    "collapsed": true
   },
   "outputs": [],
   "source": [
    "c = CountVectorizer(min_df=10)\n",
    "dtm = c.fit_transform(train.reviewText)\n"
   ]
  },
  {
   "cell_type": "code",
   "execution_count": 118,
   "metadata": {
    "collapsed": false
   },
   "outputs": [
    {
     "data": {
      "text/plain": [
       "<121003x14354 sparse matrix of type '<class 'numpy.int64'>'\n",
       "\twith 7250962 stored elements in Compressed Sparse Row format>"
      ]
     },
     "execution_count": 118,
     "metadata": {},
     "output_type": "execute_result"
    }
   ],
   "source": [
    "dtm"
   ]
  },
  {
   "cell_type": "code",
   "execution_count": 116,
   "metadata": {
    "collapsed": true
   },
   "outputs": [],
   "source": [
    "from sklearn.feature_extraction.text import TfidfTransformer\n",
    "tfidf = TfidfTransformer()\n",
    "dtm_train = tfidf.fit_transform(dtm)"
   ]
  },
  {
   "cell_type": "code",
   "execution_count": 117,
   "metadata": {
    "collapsed": true
   },
   "outputs": [],
   "source": [
    "nbc = MultinomialNB()\n",
    "f = nbc.fit(dtm_train, train.overall > 4)"
   ]
  },
  {
   "cell_type": "code",
   "execution_count": 121,
   "metadata": {
    "collapsed": true
   },
   "outputs": [],
   "source": [
    "# predict on test data\n",
    "\n",
    "dtm_test = c.transform(test.reviewText)\n",
    "dtm_test = tfidf.transform(dtm_test)"
   ]
  },
  {
   "cell_type": "code",
   "execution_count": 122,
   "metadata": {
    "collapsed": false
   },
   "outputs": [
    {
     "data": {
      "text/plain": [
       "<30251x14354 sparse matrix of type '<class 'numpy.float64'>'\n",
       "\twith 1796491 stored elements in Compressed Sparse Row format>"
      ]
     },
     "execution_count": 122,
     "metadata": {},
     "output_type": "execute_result"
    }
   ],
   "source": [
    "dtm_test"
   ]
  },
  {
   "cell_type": "code",
   "execution_count": 123,
   "metadata": {
    "collapsed": true
   },
   "outputs": [],
   "source": [
    "predictions = f.predict(dtm_test)"
   ]
  },
  {
   "cell_type": "code",
   "execution_count": 125,
   "metadata": {
    "collapsed": false
   },
   "outputs": [
    {
     "name": "stdout",
     "output_type": "stream",
     "text": [
      "             precision    recall  f1-score   support\n",
      "\n",
      "        Bad       0.79      0.60      0.68     12784\n",
      "       Good       0.75      0.89      0.81     17467\n",
      "\n",
      "avg / total       0.77      0.77      0.76     30251\n",
      "\n"
     ]
    }
   ],
   "source": [
    "from sklearn import metrics\n",
    "print(metrics.classification_report(test.overall > 4, predictions, target_names=[\"Bad\", \"Good\"]))"
   ]
  }
 ],
 "metadata": {
  "kernelspec": {
   "display_name": "Python 3",
   "language": "python",
   "name": "python3"
  },
  "language_info": {
   "codemirror_mode": {
    "name": "ipython",
    "version": 3
   },
   "file_extension": ".py",
   "mimetype": "text/x-python",
   "name": "python",
   "nbconvert_exporter": "python",
   "pygments_lexer": "ipython3",
   "version": "3.6.0"
  }
 },
 "nbformat": 4,
 "nbformat_minor": 2
}
